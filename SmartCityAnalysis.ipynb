{
  "cells": [
    {
      "cell_type": "markdown",
      "metadata": {
        "id": "view-in-github",
        "colab_type": "text"
      },
      "source": [
        "<a href=\"https://colab.research.google.com/github/BenstaaliKamel/BABot_FAQ/blob/main/SmartCityAnalysis.ipynb\" target=\"_parent\"><img src=\"https://colab.research.google.com/assets/colab-badge.svg\" alt=\"Open In Colab\"/></a>"
      ]
    },
    {
      "cell_type": "markdown",
      "id": "ec7c52e5b450b02",
      "metadata": {
        "id": "ec7c52e5b450b02"
      },
      "source": [
        "# Commençons\n",
        "\n",
        "- Un environnement virtuel est activé pour ce notebook\n",
        "- Impression de la liste des dépendances installées dans cet environnement virtuel dans un fichier .txt"
      ]
    },
    {
      "cell_type": "code",
      "execution_count": null,
      "id": "initial_id",
      "metadata": {
        "collapsed": true,
        "id": "initial_id"
      },
      "outputs": [],
      "source": [
        "#!pip freeze > requirements.txt"
      ]
    },
    {
      "cell_type": "code",
      "execution_count": null,
      "id": "1abc64467573091",
      "metadata": {
        "id": "1abc64467573091"
      },
      "outputs": [],
      "source": [
        "import pandas as pd"
      ]
    },
    {
      "cell_type": "markdown",
      "id": "16cbd828f30c331d",
      "metadata": {
        "id": "16cbd828f30c331d"
      },
      "source": [
        "### Chargement du jeu de données"
      ]
    },
    {
      "cell_type": "code",
      "execution_count": null,
      "id": "9bd3ec138fab3c65",
      "metadata": {
        "id": "9bd3ec138fab3c65"
      },
      "outputs": [],
      "source": [
        "data_tree=pd.read_csv('https://s3-eu-west-1.amazonaws.com/static.oc-static.com/prod/courses/files/AI+Engineer/Project+2+Participez+%C3%A0+un+concours+sur+la+Smart+City/p2-arbres-fr.csv', sep=';')"
      ]
    },
    {
      "cell_type": "code",
      "execution_count": null,
      "id": "a44e2f561d4d6293",
      "metadata": {
        "id": "a44e2f561d4d6293"
      },
      "outputs": [],
      "source": [
        "data_tree.head()"
      ]
    },
    {
      "cell_type": "code",
      "execution_count": null,
      "id": "f12051cd0bc3c86",
      "metadata": {
        "id": "f12051cd0bc3c86"
      },
      "outputs": [],
      "source": [
        "data_tree.shape"
      ]
    },
    {
      "cell_type": "markdown",
      "id": "29a93b78a8760f34",
      "metadata": {
        "id": "29a93b78a8760f34"
      },
      "source": [
        "En utilisant cette fonction précédente, nous voyons que notre ensemble de données contient des informations sur 200137 arbres avec 18 champs,\n",
        "\n",
        "Identifions ces colonnes:"
      ]
    },
    {
      "cell_type": "markdown",
      "id": "3c5c4bb1ed8dede5",
      "metadata": {
        "id": "3c5c4bb1ed8dede5"
      },
      "source": [
        "# Analyses naïves\n",
        "\n",
        "## Première vue des variables"
      ]
    },
    {
      "cell_type": "code",
      "execution_count": null,
      "id": "b9b1656c4bfc867d",
      "metadata": {
        "id": "b9b1656c4bfc867d"
      },
      "outputs": [],
      "source": [
        "data_tree.columns"
      ]
    },
    {
      "cell_type": "markdown",
      "id": "21f7a14b635d429a",
      "metadata": {
        "id": "21f7a14b635d429a"
      },
      "source": [
        "data_tree"
      ]
    },
    {
      "cell_type": "code",
      "execution_count": null,
      "id": "8f021fbc532722e3",
      "metadata": {
        "id": "8f021fbc532722e3"
      },
      "outputs": [],
      "source": [
        "data_tree.dtypes"
      ]
    },
    {
      "cell_type": "code",
      "execution_count": null,
      "id": "afd04e4c26c7c1d7",
      "metadata": {
        "id": "afd04e4c26c7c1d7"
      },
      "outputs": [],
      "source": [
        "data_tree.info()"
      ]
    },
    {
      "cell_type": "markdown",
      "id": "e7376ad0a39a3a25",
      "metadata": {
        "id": "e7376ad0a39a3a25"
      },
      "source": [
        "Ce que l'on remarque:\n",
        "\n",
        "De ce résumé sur les colonnes, on voit qu'il y a une colonne qui ne contient que des valeurs nulles \"numero\""
      ]
    },
    {
      "cell_type": "markdown",
      "id": "4aa18011c1bfa5fa",
      "metadata": {
        "id": "4aa18011c1bfa5fa"
      },
      "source": [
        "## Valeurs manquantes"
      ]
    },
    {
      "cell_type": "code",
      "execution_count": null,
      "id": "20f8f4cf9b7eabe3",
      "metadata": {
        "id": "20f8f4cf9b7eabe3"
      },
      "outputs": [],
      "source": [
        "data_tree.isnull().sum()"
      ]
    },
    {
      "cell_type": "markdown",
      "id": "eb7507e00b8e6b9f",
      "metadata": {
        "id": "eb7507e00b8e6b9f"
      },
      "source": [
        "D'autres colonnes ont un pourcentage important de valeurs nulles, cependant nous nous occuperons des valeurs nulles et d'autres types d'erreurs plus tard car nous souhaitons supprimer certaines colonnes inutiles pour notre analyse."
      ]
    },
    {
      "cell_type": "markdown",
      "id": "774579cb80afa446",
      "metadata": {
        "id": "774579cb80afa446"
      },
      "source": [
        "# Choix des données"
      ]
    },
    {
      "cell_type": "markdown",
      "id": "715daece8ac59b0b",
      "metadata": {
        "id": "715daece8ac59b0b"
      },
      "source": [
        "## Filtrage de notre ensemble de données\n",
        "\n",
        "Nous souhaitons maintenant utiliser uniquement les champs dont nous avons besoin pour notre analyse. Nous devons donc en supprimer un grand nombre:"
      ]
    },
    {
      "cell_type": "code",
      "execution_count": null,
      "id": "986a15f8393051a",
      "metadata": {
        "id": "986a15f8393051a"
      },
      "outputs": [],
      "source": [
        "# Now we want to delete certain useless columns for our analysis\n",
        "data_tree = data_tree.drop(['id_emplacement', 'type_emplacement', 'complement_addresse' , 'numero', 'lieu', 'libelle_francais', 'variete'], axis=1)"
      ]
    },
    {
      "cell_type": "code",
      "execution_count": null,
      "id": "fe49f88b1bf78f8d",
      "metadata": {
        "id": "fe49f88b1bf78f8d"
      },
      "outputs": [],
      "source": [
        "data_tree.head(10)"
      ]
    },
    {
      "cell_type": "markdown",
      "id": "6f9b2bd5a28c53a5",
      "metadata": {
        "id": "6f9b2bd5a28c53a5"
      },
      "source": [
        "## Les champs nécessaires :"
      ]
    },
    {
      "cell_type": "code",
      "execution_count": null,
      "id": "2ceb77cd8df8182",
      "metadata": {
        "id": "2ceb77cd8df8182"
      },
      "outputs": [],
      "source": [
        "data_tree.columns"
      ]
    },
    {
      "cell_type": "code",
      "execution_count": null,
      "id": "ae89f7fd744d3b2d",
      "metadata": {
        "id": "ae89f7fd744d3b2d"
      },
      "outputs": [],
      "source": [
        "data_tree.info()"
      ]
    },
    {
      "cell_type": "code",
      "execution_count": null,
      "id": "d2d4e7ed027f5147",
      "metadata": {
        "id": "d2d4e7ed027f5147"
      },
      "outputs": [],
      "source": [
        "data_tree.describe(include='all')"
      ]
    },
    {
      "cell_type": "code",
      "execution_count": null,
      "id": "b9de40b27bbbf9c7",
      "metadata": {
        "id": "b9de40b27bbbf9c7"
      },
      "outputs": [],
      "source": [
        "#Je veux mettre la colonne \"id_emplacement\" en premiere position:\n",
        "new_order = ['id'] + [col for col in data_tree.columns if col != 'id']\n",
        "data_tree = data_tree[new_order]\n",
        "new_order = [col for col in data_tree.columns if col != 'remarquable'] + ['remarquable']\n",
        "data_tree = data_tree[new_order]"
      ]
    },
    {
      "cell_type": "code",
      "execution_count": null,
      "id": "ffe42d7de1404e44",
      "metadata": {
        "id": "ffe42d7de1404e44"
      },
      "outputs": [],
      "source": [
        "data_tree.head(10)"
      ]
    },
    {
      "cell_type": "markdown",
      "id": "d2bd448402feb0d0",
      "metadata": {
        "id": "d2bd448402feb0d0"
      },
      "source": [
        "## Prétraitement nécéssaire\n",
        "\n",
        "convertissons les valeurs de la colonne « hauteur » en cm pour correspondre à l'unité de la colonne « circonférence »"
      ]
    },
    {
      "cell_type": "code",
      "execution_count": null,
      "id": "bab25c3e6b3cc057",
      "metadata": {
        "id": "bab25c3e6b3cc057"
      },
      "outputs": [],
      "source": [
        "data_tree['hauteur_cm'] = data_tree['hauteur_m'] * 100\n",
        "\n",
        "new_order = ['id','domanialite','arrondissement','genre','espece','circonference_cm','hauteur_cm','stade_developpement','geo_point_2d_a','geo_point_2d_b','remarquable']\n",
        "data_tree = data_tree[new_order]\n",
        "data_tree"
      ]
    },
    {
      "cell_type": "code",
      "execution_count": null,
      "id": "33bf8a3f42707acb",
      "metadata": {
        "id": "33bf8a3f42707acb"
      },
      "outputs": [],
      "source": [
        "data_tree.info()"
      ]
    },
    {
      "cell_type": "markdown",
      "id": "ac186f59728507c4",
      "metadata": {
        "id": "ac186f59728507c4"
      },
      "source": [
        "# Analyse univariée\n",
        "Avant de procèder à cette étape nous devons faire quelques"
      ]
    },
    {
      "cell_type": "markdown",
      "id": "9c7b0e7db9f52124",
      "metadata": {
        "id": "9c7b0e7db9f52124"
      },
      "source": [
        "## Erreurs syntaxiques\n",
        "Fonctions pour vérifier la présence de valeurs non conformes au type souhaité"
      ]
    },
    {
      "cell_type": "code",
      "execution_count": null,
      "id": "7914417b84a9cf0",
      "metadata": {
        "id": "7914417b84a9cf0"
      },
      "outputs": [],
      "source": [
        "import numpy as np\n",
        "def replace_non_type_with_null(df, column_name, data_type):\n",
        "    \"\"\"\n",
        "    Remplace les valeurs d'une colonne spécifiée par NaN si elles ne correspondent pas au type de données spécifié.\n",
        "\n",
        "    Paramètres :\n",
        "    df (pandas.DataFrame) : Le DataFrame d'entrée.\n",
        "    column_name (str) : Le nom de la colonne à traiter.\n",
        "    data_type (type) : Le type de données souhaité (str, int ou float).\n",
        "\n",
        "    Retourne :\n",
        "    pandas.DataFrame : Le DataFrame avec la colonne spécifiée traitée.\n",
        "    \"\"\"\n",
        "    if data_type not in [str, int, float]:\n",
        "        raise ValueError(\"data_type must be str, int, or float\")\n",
        "\n",
        "    if data_type == str:\n",
        "        df[column_name] = df[column_name].apply(lambda x: x if isinstance(x, (str, object)) else np.nan)\n",
        "    elif data_type == int:\n",
        "        df[column_name] = df[column_name].apply(lambda x: x if isinstance(x, int) else np.nan)\n",
        "    elif data_type == float:\n",
        "        df[column_name] = df[column_name].apply(lambda x: x if isinstance(x, float) else np.nan)\n",
        "\n",
        "    return df"
      ]
    },
    {
      "cell_type": "code",
      "execution_count": null,
      "id": "220419ba86f7982b",
      "metadata": {
        "id": "220419ba86f7982b"
      },
      "outputs": [],
      "source": [
        "replace_non_type_with_null(data_tree, \"domanialite\", str)\n",
        "replace_non_type_with_null(data_tree, \"arrondissement\", str)\n",
        "replace_non_type_with_null(data_tree, \"genre\", str)\n",
        "replace_non_type_with_null(data_tree, \"espece\", str)\n",
        "replace_non_type_with_null(data_tree, \"stade_developpement\", str)\n",
        "replace_non_type_with_null(data_tree,'id', int)\n",
        "replace_non_type_with_null(data_tree,'circonference_cm', int)\n",
        "replace_non_type_with_null(data_tree,'hauteur_cm', int)\n",
        "replace_non_type_with_null(data_tree,'geo_point_2d_a', float)\n",
        "replace_non_type_with_null(data_tree,'geo_point_2d_b', float)\n",
        "replace_non_type_with_null(data_tree,'remarquable', float)\n",
        "data_tree.info()"
      ]
    },
    {
      "cell_type": "code",
      "execution_count": null,
      "id": "a8e902f527ee4cf7",
      "metadata": {
        "id": "a8e902f527ee4cf7"
      },
      "outputs": [],
      "source": [
        "data_tree"
      ]
    },
    {
      "cell_type": "code",
      "execution_count": null,
      "id": "9601f2283cac740",
      "metadata": {
        "id": "9601f2283cac740"
      },
      "outputs": [],
      "source": [
        "\n",
        "data_tree.describe(include='all')"
      ]
    },
    {
      "cell_type": "markdown",
      "id": "f79eab744851321a",
      "metadata": {
        "id": "f79eab744851321a"
      },
      "source": [
        "## Doublons\n",
        "\n",
        "l'utilisation de la méthode  .duplicated()  permet de vérifier si au sein d'une ou plusieurs variables, il existe des doublons.\n",
        "Donc on crée un fonction qui verifie des possibles doublons dans les combinaisons 'id' et les points de localisation"
      ]
    },
    {
      "cell_type": "code",
      "execution_count": null,
      "id": "30cfd742b897d21d",
      "metadata": {
        "id": "30cfd742b897d21d"
      },
      "outputs": [],
      "source": [
        "def verifier_doublons(df, subset=None, keep='first'):\n",
        "    # Identifier les doublons\n",
        "    doublons = df[df.duplicated(subset=subset, keep=keep)]\n",
        "\n",
        "    # Compter le nombre de doublons\n",
        "    nombre_doublons = len(doublons)\n",
        "\n",
        "    # Afficher les résultats\n",
        "    print(f\"Nombre total de lignes : {len(df)}\")\n",
        "    print(f\"Nombre de lignes uniques : {len(df.drop_duplicates(subset=subset, keep=keep))}\")\n",
        "    print(f\"Nombre de lignes dupliquées : {nombre_doublons}\")\n",
        "\n",
        "    # Afficher les doublons si présents\n",
        "    if nombre_doublons > 0:\n",
        "        print(\"\\nLignes dupliquées :\")\n",
        "        print(doublons)\n",
        "    return doublons\n",
        "verifier_doublons(data_tree, [\"id\", \"geo_point_2d_a\", \"geo_point_2d_b\"])#ajouter id-emplacement"
      ]
    },
    {
      "cell_type": "markdown",
      "id": "a89cc3f1b218b248",
      "metadata": {
        "id": "a89cc3f1b218b248"
      },
      "source": [
        "Vérifications des ratios de valeurs nulles"
      ]
    },
    {
      "cell_type": "code",
      "execution_count": null,
      "id": "8a3424af1c41cfae",
      "metadata": {
        "id": "8a3424af1c41cfae"
      },
      "outputs": [],
      "source": [
        "data_tree.isna().mean()"
      ]
    },
    {
      "cell_type": "markdown",
      "id": "70b6c598172f838f",
      "metadata": {
        "id": "70b6c598172f838f"
      },
      "source": [
        "## Statistiques univariées"
      ]
    },
    {
      "cell_type": "code",
      "execution_count": null,
      "id": "2cb434f9df779c22",
      "metadata": {
        "id": "2cb434f9df779c22"
      },
      "outputs": [],
      "source": [
        "def display_univariate_stats(df):\n",
        "    \"\"\"\n",
        "    Affiche différentes statistiques univariées pour chaque colonne d'un DataFrame.\n",
        "    Si la colonne est de type numérique, les stats à afficher sont:\n",
        "        -Statistiques descriptives (count, mean, std, min, 25%, 50%, 75%, max)\n",
        "        -L'asymétrie (skewness) et l'aplatissement (kurtosis)\n",
        "    Si la colonne est de type catégorique, les stats à afficher sont:\n",
        "        -Fréquences\n",
        "        -Pourcentages\n",
        "        -Mode\n",
        "    Args:\n",
        "    df (pandas.DataFrame): Le DataFrame à analyser\n",
        "    \"\"\"\n",
        "    for column in df.columns:\n",
        "        print(f\"\\n{'='*50}\")\n",
        "        print(f\"Analyse de la colonne: {column}\")\n",
        "        print(f\"{'='*50}\")\n",
        "\n",
        "        # Déterminer le type de la colonne\n",
        "        if pd.api.types.is_numeric_dtype(df[column]):\n",
        "            print(\"Type: Numérique\")\n",
        "\n",
        "            # Statistiques descriptives\n",
        "            desc = df[column].describe()\n",
        "            df[column].median()\n",
        "            print(\"\\nStatistiques descriptives:\")\n",
        "            print(desc)\n",
        "            print(\"mediane:  \",df[column].median())\n",
        "\n",
        "            # Asymétrie et aplatissement\n",
        "            print(f\"\\nAsymétrie (Skewness): {df[column].skew():.2f}\")\n",
        "            print(f\"Aplatissement (Kurtosis): {df[column].kurtosis():.2f}\")\n",
        "\n",
        "        elif pd.api.types.is_object_dtype(df[column]) or pd.api.types.is_categorical_dtype(df[column]):\n",
        "            print(\"Type: Catégoriel\")\n",
        "\n",
        "            # Fréquences\n",
        "            value_counts = df[column].value_counts()\n",
        "            print(\"\\nFréquences:\")\n",
        "            print(value_counts)\n",
        "\n",
        "            # Pourcentages\n",
        "            percentages = df[column].value_counts(normalize=True) * 100\n",
        "            print(\"\\nPourcentages:\")\n",
        "            print(percentages)\n",
        "\n",
        "            # Mode\n",
        "            print(f\"\\nMode: {df[column].mode()[0]}\")\n",
        "\n",
        "\n",
        "        else:\n",
        "            print(\"Type: Inconnu ou non pris en charge\")\n",
        "            print(df[column].dtype)\n",
        "\n",
        "    print(\"\\nAnalyse terminée.\")"
      ]
    },
    {
      "cell_type": "code",
      "execution_count": null,
      "id": "98be04131fbf74cc",
      "metadata": {
        "id": "98be04131fbf74cc"
      },
      "outputs": [],
      "source": [
        "display_univariate_stats(data_tree)"
      ]
    },
    {
      "cell_type": "markdown",
      "id": "1acc9c33e90d79df",
      "metadata": {
        "id": "1acc9c33e90d79df"
      },
      "source": [
        "## Catégorisation des variables\n",
        "\n",
        "Pour les varibles qualitatives, on va regrouper certaines valeurs ( les moins fréquentes ) en une seule valeur 'autres' pour pouvoir faire des représentations graphiques plus claires, ce traitement va concerner les colonnes: 'domanialite', 'arrondissement', 'genre', 'espece'."
      ]
    },
    {
      "cell_type": "code",
      "execution_count": null,
      "id": "692c67719a25f3a1",
      "metadata": {
        "id": "692c67719a25f3a1"
      },
      "outputs": [],
      "source": [
        "import numpy as np\n",
        "import pandas as pd\n",
        "\n",
        "def convert_to_top_5_and_others(df, column_name, top_n=5, others_label='Autres'):\n",
        "    \"\"\"\n",
        "    Convertit les valeurs les moins fréquentes d'une colonne qualitative en 'Autres',\n",
        "    ne gardant que les valeurs qui font partie des n valeurs les plus fréquentes.\n",
        "    Les valeurs nulles sont conservées telles quelles.\n",
        "\n",
        "    Args:\n",
        "    df (pandas.DataFrame): Le DataFrame contenant la colonne à traiter.\n",
        "    column_name (str): Le nom de la colonne à traiter.\n",
        "    top_n (int): Le nombre de valeurs les plus fréquentes à conserver (par défaut 5).\n",
        "    others_label (str): L'étiquette à utiliser pour les valeurs regroupées (par défaut 'Autres').\n",
        "\n",
        "    Returns:\n",
        "    pandas.DataFrame: Une copie du DataFrame avec la colonne traitée.\n",
        "    \"\"\"\n",
        "    # Créer une copie du DataFrame pour éviter de modifier l'original\n",
        "    df_copy = df.copy()\n",
        "\n",
        "    # Vérifier si la colonne existe\n",
        "    if column_name not in df_copy.columns:\n",
        "        raise ValueError(f\"La colonne '{column_name}' n'existe pas dans le DataFrame.\")\n",
        "\n",
        "    # Obtenir les top_n valeurs les plus fréquentes (en excluant les valeurs nulles)\n",
        "    value_counts = df_copy[column_name].value_counts(dropna=False)\n",
        "    non_null_counts = value_counts[value_counts.index.notnull()]\n",
        "    top_values = non_null_counts.nlargest(top_n).index.tolist()\n",
        "\n",
        "    # Créer une fonction pour remplacer les valeurs\n",
        "    def replace_value(value):\n",
        "        if pd.isna(value):\n",
        "            return value  # Garder les valeurs nulles telles quelles\n",
        "        return value if value in top_values else others_label\n",
        "\n",
        "    # Appliquer la fonction à la colonne\n",
        "    df_copy[column_name] = df_copy[column_name].apply(replace_value)\n",
        "\n",
        "    return df_copy"
      ]
    },
    {
      "cell_type": "code",
      "execution_count": null,
      "id": "7127a3f0be0a7b2b",
      "metadata": {
        "id": "7127a3f0be0a7b2b"
      },
      "outputs": [],
      "source": [
        "data_tree.dtypes"
      ]
    },
    {
      "cell_type": "code",
      "execution_count": null,
      "id": "273d885283df5287",
      "metadata": {
        "id": "273d885283df5287"
      },
      "outputs": [],
      "source": [
        "data_tree.columns"
      ]
    },
    {
      "cell_type": "code",
      "execution_count": null,
      "id": "be2a902bdcf0884e",
      "metadata": {
        "id": "be2a902bdcf0884e"
      },
      "outputs": [],
      "source": [
        "columns = ['domanialite','genre', 'espece','stade_developpement']\n",
        "for column in columns:\n",
        "    if pd.api.types.is_object_dtype(data_tree[column]):\n",
        "        data_tree = convert_to_top_5_and_others(data_tree, column)\n",
        "data_tree.head()"
      ]
    },
    {
      "cell_type": "code",
      "execution_count": null,
      "id": "30a17f1746b433fa",
      "metadata": {
        "id": "30a17f1746b433fa"
      },
      "outputs": [],
      "source": [
        "display_univariate_stats(data_tree)"
      ]
    },
    {
      "cell_type": "code",
      "execution_count": null,
      "id": "49feddfc039c6d4b",
      "metadata": {
        "id": "49feddfc039c6d4b"
      },
      "outputs": [],
      "source": [
        "def table_values(df, column_name):\n",
        "    effectifs = df[column_name].value_counts()\n",
        "    modalites = effectifs.index # l'index des effectifs contient les modalités\n",
        "\n",
        "    tab = pd.DataFrame(modalites, columns = [column_name]) # création du tableau à partir des modalités\n",
        "    tab[\"n\"] = effectifs.values\n",
        "    tab[\"f\"] = tab[\"n\"] / len(df) # len(data_tree) renvoie la taille de l'échantillon\n",
        "    return tab"
      ]
    },
    {
      "cell_type": "code",
      "execution_count": null,
      "id": "5fa9892ee387d638",
      "metadata": {
        "id": "5fa9892ee387d638"
      },
      "outputs": [],
      "source": [
        "table_values(data_tree,'arrondissement')"
      ]
    },
    {
      "cell_type": "markdown",
      "id": "ea2ed563aee712ae",
      "metadata": {
        "id": "ea2ed563aee712ae"
      },
      "source": [
        "Pour chacune des variables 'domnialite' 'genre' espece' on a 6 valeurs discrètes maintenant, mais pour la variable 'arrondissement' on a encore 25 valeurs discrètes, cependant au lieu d'utiliser directement la même approche de catégorisation, il est préférable de faire un petit traitement pour la représentation graphique: séparer les données de paris de la banlieue.\n",
        "\n",
        "Pour cela on va répartir les valeurs de 'arrondissement' dans deux nouvelles variables: 'arrondissement_paris' 'arrondissement_banlieue'"
      ]
    },
    {
      "cell_type": "code",
      "execution_count": null,
      "id": "d6b5d613a90fd024",
      "metadata": {
        "id": "d6b5d613a90fd024"
      },
      "outputs": [],
      "source": [
        "import numpy as np\n",
        "\n",
        "# Liste des arrondissements de la banlieue\n",
        "arrondissements_banlieue = ['SEINE-SAINT-DENIS', 'BOIS DE VINCENNES', 'VAL-DE-MARNE', 'HAUTS-DE-SEINE', 'BOIS DE BOULOGNE']\n",
        "\n",
        "# Créer la colonne 'arrondissement_paris' : True si l'arrondissement n'est pas dans la banlieue, sinon NaN\n",
        "data_tree['arrondissement_paris'] = np.where(data_tree['arrondissement'].isin(arrondissements_banlieue), np.nan, data_tree['arrondissement'])\n",
        "\n",
        "# Créer la colonne 'arrondissement_banlieue' : True si l'arrondissement est dans la banlieue, sinon NaN\n",
        "data_tree['arrondissement_banlieue'] = np.where(data_tree['arrondissement'].isin(arrondissements_banlieue), data_tree['arrondissement'], np.nan)\n",
        "data_tree['arrondissement_paris_cat'] = data_tree['arrondissement_paris']\n",
        "data_tree=convert_to_top_5_and_others(data_tree, \"arrondissement_paris_cat\")\n",
        "display_univariate_stats(data_tree)"
      ]
    },
    {
      "cell_type": "code",
      "execution_count": null,
      "id": "3681987c8491c679",
      "metadata": {
        "id": "3681987c8491c679"
      },
      "outputs": [],
      "source": [
        "data_tree.isnull().sum()"
      ]
    },
    {
      "cell_type": "markdown",
      "id": "c3ffa2282f4d1f5d",
      "metadata": {
        "id": "c3ffa2282f4d1f5d"
      },
      "source": [
        "## Représentation des variables catégorielles sous forme de tableaux"
      ]
    },
    {
      "cell_type": "code",
      "execution_count": null,
      "id": "664acc4250bfed2e",
      "metadata": {
        "id": "664acc4250bfed2e"
      },
      "outputs": [],
      "source": [
        "data_tree.columns"
      ]
    },
    {
      "cell_type": "code",
      "execution_count": null,
      "id": "c66ddcd548c02e31",
      "metadata": {
        "id": "c66ddcd548c02e31"
      },
      "outputs": [],
      "source": [
        "table_values(data_tree,'domanialite')\n"
      ]
    },
    {
      "cell_type": "code",
      "execution_count": null,
      "id": "1ecd52b9ab5fe45d",
      "metadata": {
        "id": "1ecd52b9ab5fe45d"
      },
      "outputs": [],
      "source": [
        "table_values(data_tree,'genre')\n"
      ]
    },
    {
      "cell_type": "code",
      "execution_count": null,
      "id": "cfba8e64042ed72d",
      "metadata": {
        "id": "cfba8e64042ed72d"
      },
      "outputs": [],
      "source": [
        "table_values(data_tree,'espece')\n"
      ]
    },
    {
      "cell_type": "code",
      "execution_count": null,
      "id": "1d06a0f36750319f",
      "metadata": {
        "id": "1d06a0f36750319f"
      },
      "outputs": [],
      "source": [
        "table_values(data_tree,'arrondissement')\n"
      ]
    },
    {
      "cell_type": "code",
      "execution_count": null,
      "id": "14185afbf08820c0",
      "metadata": {
        "id": "14185afbf08820c0"
      },
      "outputs": [],
      "source": [
        "table_values(data_tree,'arrondissement_paris')\n"
      ]
    },
    {
      "cell_type": "code",
      "execution_count": null,
      "id": "15ff4a8b3ed3f20b",
      "metadata": {
        "id": "15ff4a8b3ed3f20b"
      },
      "outputs": [],
      "source": [
        "table_values(data_tree,'arrondissement_paris_cat')\n"
      ]
    },
    {
      "cell_type": "code",
      "execution_count": null,
      "id": "d3e539894f21b1f0",
      "metadata": {
        "id": "d3e539894f21b1f0"
      },
      "outputs": [],
      "source": [
        "table_values(data_tree,'arrondissement_banlieue')"
      ]
    },
    {
      "cell_type": "code",
      "execution_count": null,
      "id": "55c91c2c0a5811d",
      "metadata": {
        "id": "55c91c2c0a5811d"
      },
      "outputs": [],
      "source": [
        "table_values(data_tree,'remarquable')"
      ]
    },
    {
      "cell_type": "code",
      "execution_count": null,
      "id": "bea16801a1340ea2",
      "metadata": {
        "id": "bea16801a1340ea2"
      },
      "outputs": [],
      "source": [
        "data_tree.isnull().sum()"
      ]
    },
    {
      "cell_type": "markdown",
      "id": "a987d348d37574a0",
      "metadata": {
        "id": "a987d348d37574a0"
      },
      "source": [
        "## Représentations graphiques"
      ]
    },
    {
      "cell_type": "code",
      "execution_count": null,
      "id": "cbf6e12990611f49",
      "metadata": {
        "id": "cbf6e12990611f49"
      },
      "outputs": [],
      "source": [
        "data_tree.columns"
      ]
    },
    {
      "cell_type": "markdown",
      "id": "fe423d166a680ea3",
      "metadata": {
        "id": "fe423d166a680ea3"
      },
      "source": [
        "On va commencer par représenter graphiquement chaque variable toute seule pour illustrer les distributions des valeurs sur celle_ci"
      ]
    },
    {
      "cell_type": "markdown",
      "id": "7de80ed12e7f4d58",
      "metadata": {
        "id": "7de80ed12e7f4d58"
      },
      "source": [
        "### Variables discrètes"
      ]
    },
    {
      "cell_type": "code",
      "execution_count": null,
      "id": "51e36b319bd65133",
      "metadata": {
        "id": "51e36b319bd65133"
      },
      "outputs": [],
      "source": [
        "#!pip install matplotlib"
      ]
    },
    {
      "cell_type": "markdown",
      "id": "b5f59437234ebd2d",
      "metadata": {
        "id": "b5f59437234ebd2d"
      },
      "source": [
        "Domanialite:\n",
        "variable catégorielle 'discrète'"
      ]
    },
    {
      "cell_type": "code",
      "execution_count": null,
      "id": "b83be6f66f8c9e9d",
      "metadata": {
        "id": "b83be6f66f8c9e9d"
      },
      "outputs": [],
      "source": [
        "from matplotlib import pyplot as plt\n",
        "\n",
        "# Get the counts for each category\n",
        "category_counts = data_tree['domanialite'].value_counts()\n",
        "\n",
        "# Plot pie chart\n",
        "category_counts.plot.pie(autopct='%1.1f%%', figsize=(6, 6))\n",
        "\n",
        "# Show the plot\n",
        "plt.xlabel('Distribution des arbres sur les types de lieux')  # Optional: remove the default y-label\n",
        "plt.ylabel('')\n",
        "plt.show()"
      ]
    },
    {
      "cell_type": "markdown",
      "id": "9eebee02860027b1",
      "metadata": {
        "id": "9eebee02860027b1"
      },
      "source": [
        "arrondissement: variable catégorielle 'discrète'"
      ]
    },
    {
      "cell_type": "code",
      "execution_count": null,
      "id": "5cc1996559b326ec",
      "metadata": {
        "id": "5cc1996559b326ec"
      },
      "outputs": [],
      "source": [
        "# Get the counts for each category\n",
        "category_counts = data_tree['arrondissement'].value_counts()\n",
        "\n",
        "# Plot pie chart\n",
        "category_counts.plot.pie(autopct='%1.1f%%', figsize=(6, 6))\n",
        "\n",
        "# Show the plot\n",
        "plt.xlabel('Distribution des arbres sur paris et la banlieue')  # Optional: remove the default y-label\n",
        "plt.ylabel('')\n",
        "plt.show()"
      ]
    },
    {
      "cell_type": "code",
      "execution_count": null,
      "id": "189879135de1ca84",
      "metadata": {
        "id": "189879135de1ca84"
      },
      "outputs": [],
      "source": [
        "category_counts = data_tree['arrondissement'].value_counts()\n",
        "# Plotting a bar chart\n",
        "category_counts.plot.bar(color='skyblue', figsize=(8, 5))\n",
        "\n",
        "# Customizing the plot\n",
        "plt.title('Bar Chart Example')\n",
        "plt.xlabel('Categories')\n",
        "plt.ylabel('Values')\n",
        "#plt.xticks(rotation=0)  # Rotate x-axis labels for better readability\n",
        "plt.grid(axis='y')  # Optional: Add grid lines for better readability\n",
        "\n",
        "# Show the plot\n",
        "plt.show()"
      ]
    },
    {
      "cell_type": "markdown",
      "id": "8325cb4709a0f237",
      "metadata": {
        "id": "8325cb4709a0f237"
      },
      "source": [
        "arrondissement_paris"
      ]
    },
    {
      "cell_type": "code",
      "execution_count": null,
      "id": "232b811785d7e9f2",
      "metadata": {
        "id": "232b811785d7e9f2"
      },
      "outputs": [],
      "source": [
        "# Get the counts for each category\n",
        "category_counts = data_tree['arrondissement_paris'].value_counts()\n",
        "\n",
        "# Plot pie chart\n",
        "category_counts.plot.pie(autopct='%1.1f%%', figsize=(6, 6))\n",
        "\n",
        "# Show the plot\n",
        "plt.xlabel('Distribution des arbres sur les arrondissements de paris')  # Optional: remove the default y-label\n",
        "plt.ylabel('')\n",
        "plt.show()"
      ]
    },
    {
      "cell_type": "code",
      "execution_count": null,
      "id": "2c9f607f170f83ab",
      "metadata": {
        "id": "2c9f607f170f83ab"
      },
      "outputs": [],
      "source": [
        "category_counts = data_tree['arrondissement_paris'].value_counts()\n",
        "# Plotting a bar chart\n",
        "category_counts.plot.bar(color='skyblue', figsize=(8, 5))\n",
        "\n",
        "# Customizing the plot\n",
        "plt.title('Bar Chart Example')\n",
        "plt.xlabel('Categories')\n",
        "plt.ylabel('Values')\n",
        "#plt.xticks(rotation=0)  # Rotate x-axis labels for better readability\n",
        "plt.grid(axis='y')  # Optional: Add grid lines for better readability\n",
        "\n",
        "# Show the plot\n",
        "plt.show()"
      ]
    },
    {
      "cell_type": "markdown",
      "id": "39cde96831f5b03e",
      "metadata": {
        "id": "39cde96831f5b03e"
      },
      "source": [
        "arrondissement_paris_cat"
      ]
    },
    {
      "cell_type": "code",
      "execution_count": null,
      "id": "90aa92cb53e889c7",
      "metadata": {
        "id": "90aa92cb53e889c7"
      },
      "outputs": [],
      "source": [
        "# Get the counts for each category\n",
        "category_counts = data_tree['arrondissement_paris_cat'].value_counts()\n",
        "\n",
        "# Plot pie chart\n",
        "category_counts.plot.pie(autopct='%1.1f%%', figsize=(6, 6))\n",
        "\n",
        "# Show the plot\n",
        "plt.xlabel('Distribution des arbres sur paris')  # Optional: remove the default y-label\n",
        "plt.ylabel('')\n",
        "plt.show()"
      ]
    },
    {
      "cell_type": "markdown",
      "id": "158340793393f54c",
      "metadata": {
        "id": "158340793393f54c"
      },
      "source": [
        "arrondissement_banlieue"
      ]
    },
    {
      "cell_type": "code",
      "execution_count": null,
      "id": "adea27d7ec420e4a",
      "metadata": {
        "id": "adea27d7ec420e4a"
      },
      "outputs": [],
      "source": [
        "# Get the counts for each category\n",
        "category_counts = data_tree['arrondissement_banlieue'].value_counts()\n",
        "\n",
        "# Plot pie chart\n",
        "category_counts.plot.pie(autopct='%1.1f%%', figsize=(6, 6))\n",
        "\n",
        "# Show the plot\n",
        "plt.xlabel('Distribution des arbres sur la banlieue')  # Optional: remove the default y-label\n",
        "plt.ylabel('')\n",
        "plt.show()"
      ]
    },
    {
      "cell_type": "markdown",
      "id": "e3e9eae2eff81fd6",
      "metadata": {
        "id": "e3e9eae2eff81fd6"
      },
      "source": [
        "\n",
        "genre: variable catégorielle 'discrète"
      ]
    },
    {
      "cell_type": "code",
      "execution_count": null,
      "id": "57931a63256150fa",
      "metadata": {
        "id": "57931a63256150fa"
      },
      "outputs": [],
      "source": [
        "# Remplacer toutes les valeurs restantes (comme 'Non renseigné') qui n'ont pas été mappées\n",
        "data_tree['genre'] = data_tree['genre'].fillna('Non renseigné')\n",
        "\n",
        "# Get the counts for each category\n",
        "category_counts = data_tree['genre'].value_counts()\n",
        "\n",
        "# Plot pie chart\n",
        "category_counts.plot.pie(autopct='%1.1f%%', figsize=(6, 6))\n",
        "\n",
        "# Show the plot\n",
        "plt.xlabel(\"Diffèrents genre d\\'arbres\")  # Optional: remove the default y-label\n",
        "plt.ylabel('')\n",
        "plt.show()"
      ]
    },
    {
      "cell_type": "markdown",
      "id": "a289604ee909972f",
      "metadata": {
        "id": "a289604ee909972f"
      },
      "source": [
        "espece: variable catégorielle 'discrète'"
      ]
    },
    {
      "cell_type": "code",
      "execution_count": null,
      "id": "e472e4b57e4cb87d",
      "metadata": {
        "id": "e472e4b57e4cb87d"
      },
      "outputs": [],
      "source": [
        "# Remplacer toutes les valeurs restantes (comme 'Non renseigné') qui n'ont pas été mappées\n",
        "data_tree['espece'] = data_tree['espece'].fillna('Non renseigné')\n",
        "\n",
        "\n",
        "category_counts = data_tree['espece'].value_counts()\n",
        "\n",
        "# Plot pie chart\n",
        "category_counts.plot.pie(autopct='%1.1f%%', figsize=(6, 6))\n",
        "\n",
        "# Show the plot\n",
        "plt.xlabel('Différentes espèces d\\'arbres')  # Optional: remove the default y-label\n",
        "plt.ylabel('')\n",
        "plt.show()"
      ]
    },
    {
      "cell_type": "code",
      "execution_count": null,
      "id": "44ba62d2b17e8e2a",
      "metadata": {
        "id": "44ba62d2b17e8e2a"
      },
      "outputs": [],
      "source": [
        "# Remplacer toutes les valeurs restantes (comme 'Non renseigné') qui n'ont pas été mappées\n",
        "data_tree['stade_developpement'] = data_tree['stade_developpement'].fillna('Non renseigné')\n",
        "\n",
        "# Obtenir le comptage des catégories ('non', 'oui' et 'Non renseigné')\n",
        "category_counts = data_tree['stade_developpement'].value_counts()\n",
        "\n",
        "# Afficher les résultats\n",
        "print(category_counts)"
      ]
    },
    {
      "cell_type": "markdown",
      "id": "f8da2229e6967aba",
      "metadata": {
        "id": "f8da2229e6967aba"
      },
      "source": [
        "stade_developpement: variable catégorielle 'discrète'"
      ]
    },
    {
      "cell_type": "code",
      "execution_count": null,
      "id": "55b7ae7d6d4a9dec",
      "metadata": {
        "id": "55b7ae7d6d4a9dec"
      },
      "outputs": [],
      "source": [
        "# Get the counts for each category\n",
        "category_counts = data_tree['stade_developpement'].value_counts()\n",
        "\n",
        "# Plot pie chart\n",
        "category_counts.plot.pie(autopct='%1.1f%%', figsize=(6, 6))\n",
        "\n",
        "# Show the plot\n",
        "plt.xlabel('Différentes des périodes d\\'âges d\\'arbres')  # Optional: remove the default y-label\n",
        "plt.ylabel('')\n",
        "plt.show()"
      ]
    },
    {
      "cell_type": "markdown",
      "id": "d0a5bc467bf5e4ad",
      "metadata": {
        "id": "d0a5bc467bf5e4ad"
      },
      "source": [
        "remarquable: malgres que cette variable contient des valeurs numériques, elles sont discrètes, donc la même représentation graphiques que les précedentes variables."
      ]
    },
    {
      "cell_type": "code",
      "execution_count": null,
      "id": "2aadb1dc0a5ee578",
      "metadata": {
        "id": "2aadb1dc0a5ee578"
      },
      "outputs": [],
      "source": [
        "data_tree['remarquable_cat'] = data_tree['remarquable'].map({0: 'non', 1: 'oui'})\n",
        "\n",
        "# Remplacer toutes les valeurs restantes (comme 'Non renseigné') qui n'ont pas été mappées\n",
        "data_tree['remarquable_cat'] = data_tree['remarquable_cat'].fillna('Non renseigné')\n",
        "\n",
        "# Obtenir le comptage des catégories ('non', 'oui' et 'Non renseigné')\n",
        "category_counts = data_tree['remarquable_cat'].value_counts()\n",
        "\n",
        "# Afficher les résultats\n",
        "print(category_counts)\n"
      ]
    },
    {
      "cell_type": "code",
      "execution_count": null,
      "id": "e601fd86d42aa6e",
      "metadata": {
        "id": "e601fd86d42aa6e"
      },
      "outputs": [],
      "source": [
        "# Plot pie chart\n",
        "category_counts.plot.pie(autopct='%1.1f%%', figsize=(6, 6))\n",
        "\n",
        "# Show the plot\n",
        "plt.xlabel('Les arbres selon leur remarquabilité ou non')  # Optional: remove the default y-label\n",
        "plt.ylabel('')\n",
        "plt.show()"
      ]
    },
    {
      "cell_type": "markdown",
      "id": "ba1f86b52c8aa52c",
      "metadata": {
        "id": "ba1f86b52c8aa52c"
      },
      "source": [
        "### Variables continues"
      ]
    },
    {
      "cell_type": "markdown",
      "id": "b9271d300a26c09e",
      "metadata": {
        "id": "b9271d300a26c09e"
      },
      "source": [
        "circonference_cm:"
      ]
    },
    {
      "cell_type": "code",
      "execution_count": null,
      "id": "9d6317ebc6fbe91e",
      "metadata": {
        "id": "9d6317ebc6fbe91e"
      },
      "outputs": [],
      "source": [
        "# Histogramme\n",
        "# Plotting a histogram for the 'Values' column\n",
        "data_tree['circonference_cm'].plot.hist(bins=10, color='skyblue', alpha=0.7, edgecolor='black', figsize=(8, 5))\n",
        "\n",
        "# Customizing the plot\n",
        "plt.title('Histogram des circonférences')\n",
        "plt.xlabel('Circonférence (cm)')\n",
        "plt.ylabel('Fréquence')\n",
        "plt.grid(axis='y')  # Optional: Add grid lines for better readability\n",
        "\n",
        "# Show the plot\n",
        "plt.show()\n"
      ]
    },
    {
      "cell_type": "code",
      "execution_count": null,
      "id": "cc5c438dfc84d107",
      "metadata": {
        "id": "cc5c438dfc84d107"
      },
      "outputs": [],
      "source": [
        "# boite a moustache\n",
        "data_tree.boxplot(column=\"circonference_cm\", vert=False)\n",
        "plt.show()"
      ]
    },
    {
      "cell_type": "code",
      "execution_count": null,
      "id": "cd08a176a0739af6",
      "metadata": {
        "id": "cd08a176a0739af6"
      },
      "outputs": [],
      "source": [
        "data_tree['circonference_cm'].sort_values(ascending=False).head(30)"
      ]
    },
    {
      "cell_type": "markdown",
      "id": "8b93a429ebaab6ff",
      "metadata": {
        "id": "8b93a429ebaab6ff"
      },
      "source": [
        "\n",
        "hauteur_cm:"
      ]
    },
    {
      "cell_type": "code",
      "execution_count": null,
      "id": "b9babf436ba514c6",
      "metadata": {
        "id": "b9babf436ba514c6"
      },
      "outputs": [],
      "source": [
        "# Histogramme\n",
        "# Plotting a histogram for the 'Values' column\n",
        "data_tree['hauteur_cm'].plot.hist(bins=10, color='skyblue', alpha=0.7, edgecolor='black',figsize=(8, 5))\n",
        "\n",
        "# Customizing the plot\n",
        "plt.title('Histogram des hauteurs')\n",
        "plt.xlabel('Hauteur (cm)')\n",
        "plt.xlim(0, data_tree['hauteur_cm'].max())\n",
        "plt.xticks(rotation=0)  # Rotate x-axis labels for better readability\n",
        "plt.ylabel('Fréquence')\n",
        "plt.grid(axis='y')  # Optional: Add grid lines for better readability\n",
        "\n",
        "# Show the plot\n",
        "plt.show()"
      ]
    },
    {
      "cell_type": "code",
      "execution_count": null,
      "id": "f67287f15f29b756",
      "metadata": {
        "id": "f67287f15f29b756"
      },
      "outputs": [],
      "source": [
        "data_tree.boxplot(column=\"hauteur_cm\", vert=False)\n",
        "plt.show()"
      ]
    },
    {
      "cell_type": "code",
      "execution_count": null,
      "id": "70c510958dbd82af",
      "metadata": {
        "id": "70c510958dbd82af"
      },
      "outputs": [],
      "source": [
        "data_tree['hauteur_cm'].sort_values(ascending=False).head(30)"
      ]
    },
    {
      "cell_type": "markdown",
      "id": "58cd78519c8bec4e",
      "metadata": {
        "id": "58cd78519c8bec4e"
      },
      "source": [
        "### Représentation cartogarphiques des coordonnées"
      ]
    },
    {
      "cell_type": "markdown",
      "id": "7f7a9eae991f6614",
      "metadata": {
        "id": "7f7a9eae991f6614"
      },
      "source": [
        "geo_point_2d_a  et geo_point_2d_b sont des données cartographiques, ça ne sert à rien d'afficher les distributions de valeurs des ces denières, par contre on va proposer un autre type d'illustrations: \"une carte !!!!\"\n"
      ]
    },
    {
      "cell_type": "markdown",
      "id": "8636f57c6d167a27",
      "metadata": {
        "id": "8636f57c6d167a27"
      },
      "source": [
        "Pour cela, la bibliothèque dont on a besoin s'appelle folium"
      ]
    },
    {
      "cell_type": "code",
      "execution_count": null,
      "id": "e55a4e18d0aaf4c1",
      "metadata": {
        "id": "e55a4e18d0aaf4c1"
      },
      "outputs": [],
      "source": [
        "!pip install folium"
      ]
    },
    {
      "cell_type": "code",
      "execution_count": null,
      "id": "38ae0c0b190c484",
      "metadata": {
        "id": "38ae0c0b190c484"
      },
      "outputs": [],
      "source": [
        "import folium\n",
        "\n",
        "# Créer une carte centrée sur la moyenne des coordonnées\n",
        "center_lat = data_tree['geo_point_2d_a'].mean()\n",
        "center_lon = data_tree['geo_point_2d_b'].mean()\n",
        "m = folium.Map(location=[center_lat, center_lon], zoom_start=12 ,width=400, height=300)\n",
        "\n",
        "# Ajouter un marqueur pour chaque arbre\n",
        "for idx, row in data_tree.iterrows():\n",
        "    folium.Marker(\n",
        "        location=[row['geo_point_2d_a'], row['geo_point_2d_b']],\n",
        "        popup=f\"Arbre {idx}\"\n",
        "    ).add_to(m)\n",
        "\n",
        "#m.save(\"carte_arbres.html\")\n",
        "# Afficher la carte\n",
        "m"
      ]
    },
    {
      "cell_type": "markdown",
      "id": "e4b5c8f7e7f782be",
      "metadata": {
        "id": "e4b5c8f7e7f782be"
      },
      "source": [
        "# Fin"
      ]
    }
  ],
  "metadata": {
    "colab": {
      "provenance": [],
      "private_outputs": true,
      "include_colab_link": true
    },
    "kernelspec": {
      "display_name": "P2",
      "language": "python",
      "name": "p2"
    },
    "language_info": {
      "codemirror_mode": {
        "name": "ipython",
        "version": 3
      },
      "file_extension": ".py",
      "mimetype": "text/x-python",
      "name": "python",
      "nbconvert_exporter": "python",
      "pygments_lexer": "ipython3",
      "version": "3.12.3"
    }
  },
  "nbformat": 4,
  "nbformat_minor": 5
}